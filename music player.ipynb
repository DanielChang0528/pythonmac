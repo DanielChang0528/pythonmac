{
 "cells": [
  {
   "cell_type": "code",
   "execution_count": 1,
   "metadata": {},
   "outputs": [],
   "source": [
    "%matplotlib inline\n",
    "import numpy as np\n",
    "import matplotlib.pyplot as plt\n",
    "import pandas as pd\n"
   ]
  },
  {
   "cell_type": "code",
   "execution_count": 2,
   "metadata": {},
   "outputs": [
    {
     "name": "stdout",
     "output_type": "stream",
     "text": [
      "pygame 1.9.6\n",
      "Hello from the pygame community. https://www.pygame.org/contribute.html\n"
     ]
    }
   ],
   "source": [
    "from tkinter import *\n",
    "import pygame\n",
    "pygame.mixer.init()"
   ]
  },
  {
   "cell_type": "code",
   "execution_count": 3,
   "metadata": {},
   "outputs": [],
   "source": [
    "def playmusic():\n",
    "    selection=var.get()\n",
    "    if selection == '1':\n",
    "        pygame.mixer.music.load('/Users/danielchang/想見你想見你想見你.mp3')\n",
    "        pygame.mixer.music.play(-1)\n",
    "    if selection == '2':\n",
    "        pygame.mixer.music.load('/Users/danielchang/周杰倫 青花瓷 歌詞.mp3')\n",
    "        pygame.mixer.music.play(-2)\n",
    "    if selection == '3':\n",
    "        pygame.mixer.music.load('/Users/danielchang/蔡依林 美人計- 華納official HQ官方版MV.mp3')\n",
    "        pygame.mixer.music.play(-3)\n",
    "def stopmusic():\n",
    "    pygame.mixer.music.stop()"
   ]
  },
  {
   "cell_type": "code",
   "execution_count": 4,
   "metadata": {},
   "outputs": [],
   "source": [
    "musics=[('八三夭 想見你想見你想見你',1),('周杰倫 青花瓷 ',2),\n",
    "        ('蔡依林 美人計',3)]"
   ]
  },
  {
   "cell_type": "code",
   "execution_count": 5,
   "metadata": {},
   "outputs": [],
   "source": [
    "pygame.mixer.init()"
   ]
  },
  {
   "cell_type": "code",
   "execution_count": 6,
   "metadata": {},
   "outputs": [],
   "source": [
    "tk=Tk()\n",
    "tk.geometry('480x220')\n",
    "tk.title('Music Player')\n",
    "mp3Label=Label(tk,text='\\n My-Music-Player')\n",
    "mp3Label.pack()"
   ]
  },
  {
   "cell_type": "code",
   "execution_count": 7,
   "metadata": {},
   "outputs": [],
   "source": [
    "var=StringVar()\n",
    "var.set('1')\n",
    "for music, num in musics:\n",
    "    radio=Radiobutton(tk,text=music, variable=var, value=num)\n",
    "    radio.pack()"
   ]
  },
  {
   "cell_type": "code",
   "execution_count": null,
   "metadata": {},
   "outputs": [],
   "source": [
    "button1=Button(tk, text='play', width=10, command=playmusic)\n",
    "button1.pack()\n",
    "button2=Button(tk, text='stop', width=10, command=stopmusic)\n",
    "button2.pack()\n",
    "mainloop()"
   ]
  },
  {
   "cell_type": "code",
   "execution_count": null,
   "metadata": {},
   "outputs": [],
   "source": []
  },
  {
   "cell_type": "code",
   "execution_count": null,
   "metadata": {},
   "outputs": [],
   "source": []
  }
 ],
 "metadata": {
  "kernelspec": {
   "display_name": "Python 3",
   "language": "python",
   "name": "python3"
  },
  "language_info": {
   "codemirror_mode": {
    "name": "ipython",
    "version": 3
   },
   "file_extension": ".py",
   "mimetype": "text/x-python",
   "name": "python",
   "nbconvert_exporter": "python",
   "pygments_lexer": "ipython3",
   "version": "3.7.6"
  }
 },
 "nbformat": 4,
 "nbformat_minor": 4
}
